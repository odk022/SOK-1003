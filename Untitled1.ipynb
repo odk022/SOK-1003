{
 "cells": [
  {
   "cell_type": "code",
   "execution_count": 4,
   "id": "a52c15e8-8e70-4eda-ac5d-0391d2851187",
   "metadata": {},
   "outputs": [
    {
     "name": "stdout",
     "output_type": "stream",
     "text": [
      "git\n",
      "is\n",
      "fun\n"
     ]
    }
   ],
   "source": [
    "for i in ['git','is','fun']:\n",
    "    print(i)"
   ]
  },
  {
   "cell_type": "code",
   "execution_count": null,
   "id": "4879d5c4-8c9a-4e04-82f7-695e82a6cc13",
   "metadata": {},
   "outputs": [],
   "source": []
  }
 ],
 "metadata": {
  "kernelspec": {
   "display_name": "Python 3 (ipykernel)",
   "language": "python",
   "name": "python3"
  },
  "language_info": {
   "codemirror_mode": {
    "name": "ipython",
    "version": 3
   },
   "file_extension": ".py",
   "mimetype": "text/x-python",
   "name": "python",
   "nbconvert_exporter": "python",
   "pygments_lexer": "ipython3",
   "version": "3.9.5"
  }
 },
 "nbformat": 4,
 "nbformat_minor": 5
}
